{
 "cells": [
  {
   "attachments": {},
   "cell_type": "markdown",
   "metadata": {},
   "source": [
    "# Introduction\n",
    "\n",
    "In this project, we will interpret data from the National Parks Service about endangered species in different parks. We will perform some data analysis on the conservation statuses of these species and investigate if there are any patterns or themes to the types of species that become endangered. During this project, we will analyze, clean up, and plot data as well as pose questions and seek to answer them in a meaningful way.\n",
    "\n",
    "## Questions sought to be answered\n",
    "\n",
    "1. What types of species are most likely to become endangered?\n",
    "2. Are certain types of species more likely to be endangered in certain regions?\n",
    "3. Are the differences between species and their conservation status significant?\n",
    "4. Are the differences between regions and their conservation status significant?"
   ]
  }
 ],
 "metadata": {
  "kernelspec": {
   "display_name": "DataScience",
   "language": "python",
   "name": "python3"
  },
  "language_info": {
   "name": "python",
   "version": "3.10.8"
  },
  "orig_nbformat": 4
 },
 "nbformat": 4,
 "nbformat_minor": 2
}
